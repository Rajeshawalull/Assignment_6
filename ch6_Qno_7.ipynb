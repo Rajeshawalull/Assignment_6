{
  "nbformat": 4,
  "nbformat_minor": 0,
  "metadata": {
    "colab": {
      "provenance": [],
      "collapsed_sections": []
    },
    "kernelspec": {
      "name": "python3",
      "display_name": "Python 3"
    },
    "language_info": {
      "name": "python"
    }
  },
  "cells": [
    {
      "cell_type": "markdown",
      "source": [
        "Q.no.7 Train and fine-tune a Decision Tree for the moons dataset.\n",
        "\n"
      ],
      "metadata": {
        "id": "eAdnYWeiVrRY"
      }
    },
    {
      "cell_type": "markdown",
      "source": [
        "a. Generate a moons dataset using make_moons(n_samples=10000, noise=0.4)."
      ],
      "metadata": {
        "id": "nfAKlEhnaSqb"
      }
    },
    {
      "cell_type": "code",
      "execution_count": 62,
      "metadata": {
        "id": "uE2isD1jVg-r"
      },
      "outputs": [],
      "source": [
        "import sklearn\n",
        "from sklearn.datasets import make_moons\n",
        "import matplotlib.pyplot as plt\n"
      ]
    },
    {
      "cell_type": "code",
      "source": [
        "moons= make_moons(n_samples=10000, noise=0.4)\n"
      ],
      "metadata": {
        "id": "yyYFDTCaXPRL"
      },
      "execution_count": 63,
      "outputs": []
    },
    {
      "cell_type": "code",
      "source": [
        "moons"
      ],
      "metadata": {
        "colab": {
          "base_uri": "https://localhost:8080/"
        },
        "id": "Jv-R5JFNZhv8",
        "outputId": "74924f10-3d50-4afa-df37-d0ba9da2ef07"
      },
      "execution_count": 64,
      "outputs": [
        {
          "output_type": "execute_result",
          "data": {
            "text/plain": [
              "(array([[ 0.77483928,  0.39917043],\n",
              "        [ 1.70472677, -0.6567495 ],\n",
              "        [ 0.40191641,  1.76305007],\n",
              "        ...,\n",
              "        [-0.16415738, -0.35005345],\n",
              "        [ 0.09742777,  1.06135978],\n",
              "        [ 0.4714133 , -1.0414522 ]]), array([0, 1, 0, ..., 1, 0, 1]))"
            ]
          },
          "metadata": {},
          "execution_count": 64
        }
      ]
    },
    {
      "cell_type": "markdown",
      "source": [
        "Here is the moon data set in numpy array"
      ],
      "metadata": {
        "id": "VwS5vx4BcpDB"
      }
    },
    {
      "cell_type": "markdown",
      "source": [
        " b. Split it into a training set and a test set using train_test_split(). Exercises | 189 "
      ],
      "metadata": {
        "id": "3-SAHkMXV2YN"
      }
    },
    {
      "cell_type": "code",
      "source": [
        "from sklearn.model_selection import train_test_split\n",
        "X_train, X_test, y_train, y_test = train_test_split(moons[0], moons[1], test_size=0.3,random_state=2)\n",
        "X_train.shape, y_train.shape, X_test.shape, y_test.shape"
      ],
      "metadata": {
        "colab": {
          "base_uri": "https://localhost:8080/"
        },
        "id": "eFiz7SBtWQgP",
        "outputId": "c3f92165-cc8c-4a75-f287-b0bb927dee78"
      },
      "execution_count": 65,
      "outputs": [
        {
          "output_type": "execute_result",
          "data": {
            "text/plain": [
              "((7000, 2), (7000,), (3000, 2), (3000,))"
            ]
          },
          "metadata": {},
          "execution_count": 65
        }
      ]
    },
    {
      "cell_type": "markdown",
      "source": [
        "X_train and y_train as train set and X_test and y_test as test set."
      ],
      "metadata": {
        "id": "RSoSRB-mc8CH"
      }
    },
    {
      "cell_type": "markdown",
      "source": [
        "c. Use grid search with cross-validation (with the help of the GridSearchCV class) to find good hyperparameter values for a DecisionTreeClassifier. Hint: try various values for max_leaf_nodes. "
      ],
      "metadata": {
        "id": "oXheNR-TWRTb"
      }
    },
    {
      "cell_type": "code",
      "source": [
        "from sklearn.model_selection import GridSearchCV\n",
        "from sklearn.tree import DecisionTreeClassifier\n",
        "clf = DecisionTreeClassifier()\n",
        "param_grid = {\n",
        "    'max_leaf_nodes': [3, 4, 5, 6, 7,8]\n",
        "}"
      ],
      "metadata": {
        "id": "cN645iciWUFh"
      },
      "execution_count": 66,
      "outputs": []
    },
    {
      "cell_type": "code",
      "source": [
        "grid_searcher = GridSearchCV(estimator=clf, param_grid=param_grid, n_jobs=-1)"
      ],
      "metadata": {
        "id": "cy261viJbURH"
      },
      "execution_count": 67,
      "outputs": []
    },
    {
      "cell_type": "code",
      "source": [
        "grid_searcher.fit(X_train, y_train)"
      ],
      "metadata": {
        "colab": {
          "base_uri": "https://localhost:8080/"
        },
        "id": "1fh5Lvf7bWoT",
        "outputId": "caac8051-9b75-4c7b-a53c-d9b4d959d401"
      },
      "execution_count": 68,
      "outputs": [
        {
          "output_type": "execute_result",
          "data": {
            "text/plain": [
              "GridSearchCV(estimator=DecisionTreeClassifier(), n_jobs=-1,\n",
              "             param_grid={'max_leaf_nodes': [3, 4, 5, 6, 7, 8]})"
            ]
          },
          "metadata": {},
          "execution_count": 68
        }
      ]
    },
    {
      "cell_type": "code",
      "source": [
        "grid_searcher.best_score_"
      ],
      "metadata": {
        "colab": {
          "base_uri": "https://localhost:8080/"
        },
        "id": "-OeY7uwbblh3",
        "outputId": "6161916f-6079-4c0f-9f44-690d55e1a549"
      },
      "execution_count": 69,
      "outputs": [
        {
          "output_type": "execute_result",
          "data": {
            "text/plain": [
              "0.8512857142857143"
            ]
          },
          "metadata": {},
          "execution_count": 69
        }
      ]
    },
    {
      "cell_type": "code",
      "source": [
        "grid_searcher.best_params_"
      ],
      "metadata": {
        "colab": {
          "base_uri": "https://localhost:8080/"
        },
        "id": "wW4okfmIbncO",
        "outputId": "815bf870-f431-413c-94ff-d3b5883045ed"
      },
      "execution_count": 70,
      "outputs": [
        {
          "output_type": "execute_result",
          "data": {
            "text/plain": [
              "{'max_leaf_nodes': 4}"
            ]
          },
          "metadata": {},
          "execution_count": 70
        }
      ]
    },
    {
      "cell_type": "markdown",
      "source": [
        "d. Train it on the full training set using these hyperparameters, and measure your model’s performance on the test set. You should get roughly 85% to 87% accuracy."
      ],
      "metadata": {
        "id": "xPaOt_pcWUuf"
      }
    },
    {
      "cell_type": "code",
      "source": [
        "clf = DecisionTreeClassifier(max_leaf_nodes=4)\n",
        "clf.fit(X_train, y_train)\n",
        "clf.score(X_test, y_test)"
      ],
      "metadata": {
        "colab": {
          "base_uri": "https://localhost:8080/"
        },
        "id": "SqjQ8cH1WdVl",
        "outputId": "9c4fdbe3-e8a9-412b-c53c-10a99d131407"
      },
      "execution_count": 71,
      "outputs": [
        {
          "output_type": "execute_result",
          "data": {
            "text/plain": [
              "0.8576666666666667"
            ]
          },
          "metadata": {},
          "execution_count": 71
        }
      ]
    },
    {
      "cell_type": "markdown",
      "source": [
        "Using best parameter, max_leaf_nodes=4, the accuracy is 85.76 % for test data"
      ],
      "metadata": {
        "id": "I0M3ued2cRPz"
      }
    }
  ]
}